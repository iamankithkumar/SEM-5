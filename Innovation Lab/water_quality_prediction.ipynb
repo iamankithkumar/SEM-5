{
  "nbformat": 4,
  "nbformat_minor": 0,
  "metadata": {
    "colab": {
      "provenance": []
    },
    "kernelspec": {
      "name": "python3",
      "display_name": "Python 3"
    },
    "language_info": {
      "name": "python"
    }
  },
  "cells": [
    {
      "cell_type": "code",
      "execution_count": null,
      "metadata": {
        "colab": {
          "base_uri": "https://localhost:8080/"
        },
        "id": "ToiVkWtyfiIq",
        "outputId": "819aa4f8-994d-4f8c-c4d5-f06994f46e31"
      },
      "outputs": [
        {
          "output_type": "stream",
          "name": "stdout",
          "text": [
            "Requirement already satisfied: matplotlib in /usr/local/lib/python3.10/dist-packages (3.7.1)\n",
            "Requirement already satisfied: contourpy>=1.0.1 in /usr/local/lib/python3.10/dist-packages (from matplotlib) (1.1.1)\n",
            "Requirement already satisfied: cycler>=0.10 in /usr/local/lib/python3.10/dist-packages (from matplotlib) (0.12.0)\n",
            "Requirement already satisfied: fonttools>=4.22.0 in /usr/local/lib/python3.10/dist-packages (from matplotlib) (4.43.0)\n",
            "Requirement already satisfied: kiwisolver>=1.0.1 in /usr/local/lib/python3.10/dist-packages (from matplotlib) (1.4.5)\n",
            "Requirement already satisfied: numpy>=1.20 in /usr/local/lib/python3.10/dist-packages (from matplotlib) (1.23.5)\n",
            "Requirement already satisfied: packaging>=20.0 in /usr/local/lib/python3.10/dist-packages (from matplotlib) (23.2)\n",
            "Requirement already satisfied: pillow>=6.2.0 in /usr/local/lib/python3.10/dist-packages (from matplotlib) (9.4.0)\n",
            "Requirement already satisfied: pyparsing>=2.3.1 in /usr/local/lib/python3.10/dist-packages (from matplotlib) (3.1.1)\n",
            "Requirement already satisfied: python-dateutil>=2.7 in /usr/local/lib/python3.10/dist-packages (from matplotlib) (2.8.2)\n",
            "Requirement already satisfied: six>=1.5 in /usr/local/lib/python3.10/dist-packages (from python-dateutil>=2.7->matplotlib) (1.16.0)\n"
          ]
        }
      ],
      "source": [
        "import pandas as pd\n",
        "import numpy as np\n",
        "!pip install matplotlib\n",
        "import matplotlib.pyplot as plt  # Corrected import statement\n",
        "import seaborn as sns"
      ]
    },
    {
      "cell_type": "code",
      "source": [
        "path = \"water_potability.csv\"\n",
        "df1 = pd.read_csv(path)\n",
        "df = X = df1[['Turbidity', 'ph','Potability']]\n",
        "df.head()"
      ],
      "metadata": {
        "colab": {
          "base_uri": "https://localhost:8080/",
          "height": 206
        },
        "id": "cGaaSMt2ksRV",
        "outputId": "6440c2cd-3bd1-4d83-86ec-ab88c6207c4d"
      },
      "execution_count": null,
      "outputs": [
        {
          "output_type": "execute_result",
          "data": {
            "text/plain": [
              "   Turbidity        ph  Potability\n",
              "0   2.963135       NaN           0\n",
              "1   4.500656  3.716080           0\n",
              "2   3.055934  8.099124           0\n",
              "3   4.628771  8.316766           0\n",
              "4   4.075075  9.092223           0"
            ],
            "text/html": [
              "\n",
              "  <div id=\"df-b3926b0d-102f-4991-871a-4ecef8272538\" class=\"colab-df-container\">\n",
              "    <div>\n",
              "<style scoped>\n",
              "    .dataframe tbody tr th:only-of-type {\n",
              "        vertical-align: middle;\n",
              "    }\n",
              "\n",
              "    .dataframe tbody tr th {\n",
              "        vertical-align: top;\n",
              "    }\n",
              "\n",
              "    .dataframe thead th {\n",
              "        text-align: right;\n",
              "    }\n",
              "</style>\n",
              "<table border=\"1\" class=\"dataframe\">\n",
              "  <thead>\n",
              "    <tr style=\"text-align: right;\">\n",
              "      <th></th>\n",
              "      <th>Turbidity</th>\n",
              "      <th>ph</th>\n",
              "      <th>Potability</th>\n",
              "    </tr>\n",
              "  </thead>\n",
              "  <tbody>\n",
              "    <tr>\n",
              "      <th>0</th>\n",
              "      <td>2.963135</td>\n",
              "      <td>NaN</td>\n",
              "      <td>0</td>\n",
              "    </tr>\n",
              "    <tr>\n",
              "      <th>1</th>\n",
              "      <td>4.500656</td>\n",
              "      <td>3.716080</td>\n",
              "      <td>0</td>\n",
              "    </tr>\n",
              "    <tr>\n",
              "      <th>2</th>\n",
              "      <td>3.055934</td>\n",
              "      <td>8.099124</td>\n",
              "      <td>0</td>\n",
              "    </tr>\n",
              "    <tr>\n",
              "      <th>3</th>\n",
              "      <td>4.628771</td>\n",
              "      <td>8.316766</td>\n",
              "      <td>0</td>\n",
              "    </tr>\n",
              "    <tr>\n",
              "      <th>4</th>\n",
              "      <td>4.075075</td>\n",
              "      <td>9.092223</td>\n",
              "      <td>0</td>\n",
              "    </tr>\n",
              "  </tbody>\n",
              "</table>\n",
              "</div>\n",
              "    <div class=\"colab-df-buttons\">\n",
              "\n",
              "  <div class=\"colab-df-container\">\n",
              "    <button class=\"colab-df-convert\" onclick=\"convertToInteractive('df-b3926b0d-102f-4991-871a-4ecef8272538')\"\n",
              "            title=\"Convert this dataframe to an interactive table.\"\n",
              "            style=\"display:none;\">\n",
              "\n",
              "  <svg xmlns=\"http://www.w3.org/2000/svg\" height=\"24px\" viewBox=\"0 -960 960 960\">\n",
              "    <path d=\"M120-120v-720h720v720H120Zm60-500h600v-160H180v160Zm220 220h160v-160H400v160Zm0 220h160v-160H400v160ZM180-400h160v-160H180v160Zm440 0h160v-160H620v160ZM180-180h160v-160H180v160Zm440 0h160v-160H620v160Z\"/>\n",
              "  </svg>\n",
              "    </button>\n",
              "\n",
              "  <style>\n",
              "    .colab-df-container {\n",
              "      display:flex;\n",
              "      gap: 12px;\n",
              "    }\n",
              "\n",
              "    .colab-df-convert {\n",
              "      background-color: #E8F0FE;\n",
              "      border: none;\n",
              "      border-radius: 50%;\n",
              "      cursor: pointer;\n",
              "      display: none;\n",
              "      fill: #1967D2;\n",
              "      height: 32px;\n",
              "      padding: 0 0 0 0;\n",
              "      width: 32px;\n",
              "    }\n",
              "\n",
              "    .colab-df-convert:hover {\n",
              "      background-color: #E2EBFA;\n",
              "      box-shadow: 0px 1px 2px rgba(60, 64, 67, 0.3), 0px 1px 3px 1px rgba(60, 64, 67, 0.15);\n",
              "      fill: #174EA6;\n",
              "    }\n",
              "\n",
              "    .colab-df-buttons div {\n",
              "      margin-bottom: 4px;\n",
              "    }\n",
              "\n",
              "    [theme=dark] .colab-df-convert {\n",
              "      background-color: #3B4455;\n",
              "      fill: #D2E3FC;\n",
              "    }\n",
              "\n",
              "    [theme=dark] .colab-df-convert:hover {\n",
              "      background-color: #434B5C;\n",
              "      box-shadow: 0px 1px 3px 1px rgba(0, 0, 0, 0.15);\n",
              "      filter: drop-shadow(0px 1px 2px rgba(0, 0, 0, 0.3));\n",
              "      fill: #FFFFFF;\n",
              "    }\n",
              "  </style>\n",
              "\n",
              "    <script>\n",
              "      const buttonEl =\n",
              "        document.querySelector('#df-b3926b0d-102f-4991-871a-4ecef8272538 button.colab-df-convert');\n",
              "      buttonEl.style.display =\n",
              "        google.colab.kernel.accessAllowed ? 'block' : 'none';\n",
              "\n",
              "      async function convertToInteractive(key) {\n",
              "        const element = document.querySelector('#df-b3926b0d-102f-4991-871a-4ecef8272538');\n",
              "        const dataTable =\n",
              "          await google.colab.kernel.invokeFunction('convertToInteractive',\n",
              "                                                    [key], {});\n",
              "        if (!dataTable) return;\n",
              "\n",
              "        const docLinkHtml = 'Like what you see? Visit the ' +\n",
              "          '<a target=\"_blank\" href=https://colab.research.google.com/notebooks/data_table.ipynb>data table notebook</a>'\n",
              "          + ' to learn more about interactive tables.';\n",
              "        element.innerHTML = '';\n",
              "        dataTable['output_type'] = 'display_data';\n",
              "        await google.colab.output.renderOutput(dataTable, element);\n",
              "        const docLink = document.createElement('div');\n",
              "        docLink.innerHTML = docLinkHtml;\n",
              "        element.appendChild(docLink);\n",
              "      }\n",
              "    </script>\n",
              "  </div>\n",
              "\n",
              "\n",
              "<div id=\"df-7385e0e6-e608-4b54-923e-791b2d523691\">\n",
              "  <button class=\"colab-df-quickchart\" onclick=\"quickchart('df-7385e0e6-e608-4b54-923e-791b2d523691')\"\n",
              "            title=\"Suggest charts.\"\n",
              "            style=\"display:none;\">\n",
              "\n",
              "<svg xmlns=\"http://www.w3.org/2000/svg\" height=\"24px\"viewBox=\"0 0 24 24\"\n",
              "     width=\"24px\">\n",
              "    <g>\n",
              "        <path d=\"M19 3H5c-1.1 0-2 .9-2 2v14c0 1.1.9 2 2 2h14c1.1 0 2-.9 2-2V5c0-1.1-.9-2-2-2zM9 17H7v-7h2v7zm4 0h-2V7h2v10zm4 0h-2v-4h2v4z\"/>\n",
              "    </g>\n",
              "</svg>\n",
              "  </button>\n",
              "\n",
              "<style>\n",
              "  .colab-df-quickchart {\n",
              "      --bg-color: #E8F0FE;\n",
              "      --fill-color: #1967D2;\n",
              "      --hover-bg-color: #E2EBFA;\n",
              "      --hover-fill-color: #174EA6;\n",
              "      --disabled-fill-color: #AAA;\n",
              "      --disabled-bg-color: #DDD;\n",
              "  }\n",
              "\n",
              "  [theme=dark] .colab-df-quickchart {\n",
              "      --bg-color: #3B4455;\n",
              "      --fill-color: #D2E3FC;\n",
              "      --hover-bg-color: #434B5C;\n",
              "      --hover-fill-color: #FFFFFF;\n",
              "      --disabled-bg-color: #3B4455;\n",
              "      --disabled-fill-color: #666;\n",
              "  }\n",
              "\n",
              "  .colab-df-quickchart {\n",
              "    background-color: var(--bg-color);\n",
              "    border: none;\n",
              "    border-radius: 50%;\n",
              "    cursor: pointer;\n",
              "    display: none;\n",
              "    fill: var(--fill-color);\n",
              "    height: 32px;\n",
              "    padding: 0;\n",
              "    width: 32px;\n",
              "  }\n",
              "\n",
              "  .colab-df-quickchart:hover {\n",
              "    background-color: var(--hover-bg-color);\n",
              "    box-shadow: 0 1px 2px rgba(60, 64, 67, 0.3), 0 1px 3px 1px rgba(60, 64, 67, 0.15);\n",
              "    fill: var(--button-hover-fill-color);\n",
              "  }\n",
              "\n",
              "  .colab-df-quickchart-complete:disabled,\n",
              "  .colab-df-quickchart-complete:disabled:hover {\n",
              "    background-color: var(--disabled-bg-color);\n",
              "    fill: var(--disabled-fill-color);\n",
              "    box-shadow: none;\n",
              "  }\n",
              "\n",
              "  .colab-df-spinner {\n",
              "    border: 2px solid var(--fill-color);\n",
              "    border-color: transparent;\n",
              "    border-bottom-color: var(--fill-color);\n",
              "    animation:\n",
              "      spin 1s steps(1) infinite;\n",
              "  }\n",
              "\n",
              "  @keyframes spin {\n",
              "    0% {\n",
              "      border-color: transparent;\n",
              "      border-bottom-color: var(--fill-color);\n",
              "      border-left-color: var(--fill-color);\n",
              "    }\n",
              "    20% {\n",
              "      border-color: transparent;\n",
              "      border-left-color: var(--fill-color);\n",
              "      border-top-color: var(--fill-color);\n",
              "    }\n",
              "    30% {\n",
              "      border-color: transparent;\n",
              "      border-left-color: var(--fill-color);\n",
              "      border-top-color: var(--fill-color);\n",
              "      border-right-color: var(--fill-color);\n",
              "    }\n",
              "    40% {\n",
              "      border-color: transparent;\n",
              "      border-right-color: var(--fill-color);\n",
              "      border-top-color: var(--fill-color);\n",
              "    }\n",
              "    60% {\n",
              "      border-color: transparent;\n",
              "      border-right-color: var(--fill-color);\n",
              "    }\n",
              "    80% {\n",
              "      border-color: transparent;\n",
              "      border-right-color: var(--fill-color);\n",
              "      border-bottom-color: var(--fill-color);\n",
              "    }\n",
              "    90% {\n",
              "      border-color: transparent;\n",
              "      border-bottom-color: var(--fill-color);\n",
              "    }\n",
              "  }\n",
              "</style>\n",
              "\n",
              "  <script>\n",
              "    async function quickchart(key) {\n",
              "      const quickchartButtonEl =\n",
              "        document.querySelector('#' + key + ' button');\n",
              "      quickchartButtonEl.disabled = true;  // To prevent multiple clicks.\n",
              "      quickchartButtonEl.classList.add('colab-df-spinner');\n",
              "      try {\n",
              "        const charts = await google.colab.kernel.invokeFunction(\n",
              "            'suggestCharts', [key], {});\n",
              "      } catch (error) {\n",
              "        console.error('Error during call to suggestCharts:', error);\n",
              "      }\n",
              "      quickchartButtonEl.classList.remove('colab-df-spinner');\n",
              "      quickchartButtonEl.classList.add('colab-df-quickchart-complete');\n",
              "    }\n",
              "    (() => {\n",
              "      let quickchartButtonEl =\n",
              "        document.querySelector('#df-7385e0e6-e608-4b54-923e-791b2d523691 button');\n",
              "      quickchartButtonEl.style.display =\n",
              "        google.colab.kernel.accessAllowed ? 'block' : 'none';\n",
              "    })();\n",
              "  </script>\n",
              "</div>\n",
              "    </div>\n",
              "  </div>\n"
            ]
          },
          "metadata": {},
          "execution_count": 4
        }
      ]
    },
    {
      "cell_type": "code",
      "source": [
        "df.shape\n"
      ],
      "metadata": {
        "colab": {
          "base_uri": "https://localhost:8080/"
        },
        "id": "Ua8rD7Znk-B2",
        "outputId": "06664e9d-1435-4bdb-c3a2-fe32276b95fd"
      },
      "execution_count": null,
      "outputs": [
        {
          "output_type": "execute_result",
          "data": {
            "text/plain": [
              "(3276, 3)"
            ]
          },
          "metadata": {},
          "execution_count": 5
        }
      ]
    },
    {
      "cell_type": "code",
      "source": [
        "df.isnull().sum()"
      ],
      "metadata": {
        "colab": {
          "base_uri": "https://localhost:8080/"
        },
        "id": "ikSlwKdUlGRS",
        "outputId": "c8f7ac19-48f3-49d1-ac00-641c4e297526"
      },
      "execution_count": null,
      "outputs": [
        {
          "output_type": "execute_result",
          "data": {
            "text/plain": [
              "Turbidity       0\n",
              "ph            491\n",
              "Potability      0\n",
              "dtype: int64"
            ]
          },
          "metadata": {},
          "execution_count": 6
        }
      ]
    },
    {
      "cell_type": "code",
      "source": [
        "df.info()"
      ],
      "metadata": {
        "colab": {
          "base_uri": "https://localhost:8080/"
        },
        "id": "VDUNHk9klRVM",
        "outputId": "d64305b9-bb4a-4e38-e410-137a4c58f346"
      },
      "execution_count": null,
      "outputs": [
        {
          "output_type": "stream",
          "name": "stdout",
          "text": [
            "<class 'pandas.core.frame.DataFrame'>\n",
            "RangeIndex: 3276 entries, 0 to 3275\n",
            "Data columns (total 3 columns):\n",
            " #   Column      Non-Null Count  Dtype  \n",
            "---  ------      --------------  -----  \n",
            " 0   Turbidity   3276 non-null   float64\n",
            " 1   ph          2785 non-null   float64\n",
            " 2   Potability  3276 non-null   int64  \n",
            "dtypes: float64(2), int64(1)\n",
            "memory usage: 76.9 KB\n"
          ]
        }
      ]
    },
    {
      "cell_type": "code",
      "source": [
        "df.describe()"
      ],
      "metadata": {
        "colab": {
          "base_uri": "https://localhost:8080/",
          "height": 300
        },
        "id": "S9Of4DGqlWj6",
        "outputId": "ce83465d-868b-40e4-9675-27ccbbc6ea34"
      },
      "execution_count": null,
      "outputs": [
        {
          "output_type": "execute_result",
          "data": {
            "text/plain": [
              "         Turbidity           ph   Potability\n",
              "count  3276.000000  2785.000000  3276.000000\n",
              "mean      3.966786     7.080795     0.390110\n",
              "std       0.780382     1.594320     0.487849\n",
              "min       1.450000     0.000000     0.000000\n",
              "25%       3.439711     6.093092     0.000000\n",
              "50%       3.955028     7.036752     0.000000\n",
              "75%       4.500320     8.062066     1.000000\n",
              "max       6.739000    14.000000     1.000000"
            ],
            "text/html": [
              "\n",
              "  <div id=\"df-2d2226bf-472a-47ed-8323-6f3e46950627\" class=\"colab-df-container\">\n",
              "    <div>\n",
              "<style scoped>\n",
              "    .dataframe tbody tr th:only-of-type {\n",
              "        vertical-align: middle;\n",
              "    }\n",
              "\n",
              "    .dataframe tbody tr th {\n",
              "        vertical-align: top;\n",
              "    }\n",
              "\n",
              "    .dataframe thead th {\n",
              "        text-align: right;\n",
              "    }\n",
              "</style>\n",
              "<table border=\"1\" class=\"dataframe\">\n",
              "  <thead>\n",
              "    <tr style=\"text-align: right;\">\n",
              "      <th></th>\n",
              "      <th>Turbidity</th>\n",
              "      <th>ph</th>\n",
              "      <th>Potability</th>\n",
              "    </tr>\n",
              "  </thead>\n",
              "  <tbody>\n",
              "    <tr>\n",
              "      <th>count</th>\n",
              "      <td>3276.000000</td>\n",
              "      <td>2785.000000</td>\n",
              "      <td>3276.000000</td>\n",
              "    </tr>\n",
              "    <tr>\n",
              "      <th>mean</th>\n",
              "      <td>3.966786</td>\n",
              "      <td>7.080795</td>\n",
              "      <td>0.390110</td>\n",
              "    </tr>\n",
              "    <tr>\n",
              "      <th>std</th>\n",
              "      <td>0.780382</td>\n",
              "      <td>1.594320</td>\n",
              "      <td>0.487849</td>\n",
              "    </tr>\n",
              "    <tr>\n",
              "      <th>min</th>\n",
              "      <td>1.450000</td>\n",
              "      <td>0.000000</td>\n",
              "      <td>0.000000</td>\n",
              "    </tr>\n",
              "    <tr>\n",
              "      <th>25%</th>\n",
              "      <td>3.439711</td>\n",
              "      <td>6.093092</td>\n",
              "      <td>0.000000</td>\n",
              "    </tr>\n",
              "    <tr>\n",
              "      <th>50%</th>\n",
              "      <td>3.955028</td>\n",
              "      <td>7.036752</td>\n",
              "      <td>0.000000</td>\n",
              "    </tr>\n",
              "    <tr>\n",
              "      <th>75%</th>\n",
              "      <td>4.500320</td>\n",
              "      <td>8.062066</td>\n",
              "      <td>1.000000</td>\n",
              "    </tr>\n",
              "    <tr>\n",
              "      <th>max</th>\n",
              "      <td>6.739000</td>\n",
              "      <td>14.000000</td>\n",
              "      <td>1.000000</td>\n",
              "    </tr>\n",
              "  </tbody>\n",
              "</table>\n",
              "</div>\n",
              "    <div class=\"colab-df-buttons\">\n",
              "\n",
              "  <div class=\"colab-df-container\">\n",
              "    <button class=\"colab-df-convert\" onclick=\"convertToInteractive('df-2d2226bf-472a-47ed-8323-6f3e46950627')\"\n",
              "            title=\"Convert this dataframe to an interactive table.\"\n",
              "            style=\"display:none;\">\n",
              "\n",
              "  <svg xmlns=\"http://www.w3.org/2000/svg\" height=\"24px\" viewBox=\"0 -960 960 960\">\n",
              "    <path d=\"M120-120v-720h720v720H120Zm60-500h600v-160H180v160Zm220 220h160v-160H400v160Zm0 220h160v-160H400v160ZM180-400h160v-160H180v160Zm440 0h160v-160H620v160ZM180-180h160v-160H180v160Zm440 0h160v-160H620v160Z\"/>\n",
              "  </svg>\n",
              "    </button>\n",
              "\n",
              "  <style>\n",
              "    .colab-df-container {\n",
              "      display:flex;\n",
              "      gap: 12px;\n",
              "    }\n",
              "\n",
              "    .colab-df-convert {\n",
              "      background-color: #E8F0FE;\n",
              "      border: none;\n",
              "      border-radius: 50%;\n",
              "      cursor: pointer;\n",
              "      display: none;\n",
              "      fill: #1967D2;\n",
              "      height: 32px;\n",
              "      padding: 0 0 0 0;\n",
              "      width: 32px;\n",
              "    }\n",
              "\n",
              "    .colab-df-convert:hover {\n",
              "      background-color: #E2EBFA;\n",
              "      box-shadow: 0px 1px 2px rgba(60, 64, 67, 0.3), 0px 1px 3px 1px rgba(60, 64, 67, 0.15);\n",
              "      fill: #174EA6;\n",
              "    }\n",
              "\n",
              "    .colab-df-buttons div {\n",
              "      margin-bottom: 4px;\n",
              "    }\n",
              "\n",
              "    [theme=dark] .colab-df-convert {\n",
              "      background-color: #3B4455;\n",
              "      fill: #D2E3FC;\n",
              "    }\n",
              "\n",
              "    [theme=dark] .colab-df-convert:hover {\n",
              "      background-color: #434B5C;\n",
              "      box-shadow: 0px 1px 3px 1px rgba(0, 0, 0, 0.15);\n",
              "      filter: drop-shadow(0px 1px 2px rgba(0, 0, 0, 0.3));\n",
              "      fill: #FFFFFF;\n",
              "    }\n",
              "  </style>\n",
              "\n",
              "    <script>\n",
              "      const buttonEl =\n",
              "        document.querySelector('#df-2d2226bf-472a-47ed-8323-6f3e46950627 button.colab-df-convert');\n",
              "      buttonEl.style.display =\n",
              "        google.colab.kernel.accessAllowed ? 'block' : 'none';\n",
              "\n",
              "      async function convertToInteractive(key) {\n",
              "        const element = document.querySelector('#df-2d2226bf-472a-47ed-8323-6f3e46950627');\n",
              "        const dataTable =\n",
              "          await google.colab.kernel.invokeFunction('convertToInteractive',\n",
              "                                                    [key], {});\n",
              "        if (!dataTable) return;\n",
              "\n",
              "        const docLinkHtml = 'Like what you see? Visit the ' +\n",
              "          '<a target=\"_blank\" href=https://colab.research.google.com/notebooks/data_table.ipynb>data table notebook</a>'\n",
              "          + ' to learn more about interactive tables.';\n",
              "        element.innerHTML = '';\n",
              "        dataTable['output_type'] = 'display_data';\n",
              "        await google.colab.output.renderOutput(dataTable, element);\n",
              "        const docLink = document.createElement('div');\n",
              "        docLink.innerHTML = docLinkHtml;\n",
              "        element.appendChild(docLink);\n",
              "      }\n",
              "    </script>\n",
              "  </div>\n",
              "\n",
              "\n",
              "<div id=\"df-8ab2b9cd-a78e-4639-bcbf-c8989fa749c9\">\n",
              "  <button class=\"colab-df-quickchart\" onclick=\"quickchart('df-8ab2b9cd-a78e-4639-bcbf-c8989fa749c9')\"\n",
              "            title=\"Suggest charts.\"\n",
              "            style=\"display:none;\">\n",
              "\n",
              "<svg xmlns=\"http://www.w3.org/2000/svg\" height=\"24px\"viewBox=\"0 0 24 24\"\n",
              "     width=\"24px\">\n",
              "    <g>\n",
              "        <path d=\"M19 3H5c-1.1 0-2 .9-2 2v14c0 1.1.9 2 2 2h14c1.1 0 2-.9 2-2V5c0-1.1-.9-2-2-2zM9 17H7v-7h2v7zm4 0h-2V7h2v10zm4 0h-2v-4h2v4z\"/>\n",
              "    </g>\n",
              "</svg>\n",
              "  </button>\n",
              "\n",
              "<style>\n",
              "  .colab-df-quickchart {\n",
              "      --bg-color: #E8F0FE;\n",
              "      --fill-color: #1967D2;\n",
              "      --hover-bg-color: #E2EBFA;\n",
              "      --hover-fill-color: #174EA6;\n",
              "      --disabled-fill-color: #AAA;\n",
              "      --disabled-bg-color: #DDD;\n",
              "  }\n",
              "\n",
              "  [theme=dark] .colab-df-quickchart {\n",
              "      --bg-color: #3B4455;\n",
              "      --fill-color: #D2E3FC;\n",
              "      --hover-bg-color: #434B5C;\n",
              "      --hover-fill-color: #FFFFFF;\n",
              "      --disabled-bg-color: #3B4455;\n",
              "      --disabled-fill-color: #666;\n",
              "  }\n",
              "\n",
              "  .colab-df-quickchart {\n",
              "    background-color: var(--bg-color);\n",
              "    border: none;\n",
              "    border-radius: 50%;\n",
              "    cursor: pointer;\n",
              "    display: none;\n",
              "    fill: var(--fill-color);\n",
              "    height: 32px;\n",
              "    padding: 0;\n",
              "    width: 32px;\n",
              "  }\n",
              "\n",
              "  .colab-df-quickchart:hover {\n",
              "    background-color: var(--hover-bg-color);\n",
              "    box-shadow: 0 1px 2px rgba(60, 64, 67, 0.3), 0 1px 3px 1px rgba(60, 64, 67, 0.15);\n",
              "    fill: var(--button-hover-fill-color);\n",
              "  }\n",
              "\n",
              "  .colab-df-quickchart-complete:disabled,\n",
              "  .colab-df-quickchart-complete:disabled:hover {\n",
              "    background-color: var(--disabled-bg-color);\n",
              "    fill: var(--disabled-fill-color);\n",
              "    box-shadow: none;\n",
              "  }\n",
              "\n",
              "  .colab-df-spinner {\n",
              "    border: 2px solid var(--fill-color);\n",
              "    border-color: transparent;\n",
              "    border-bottom-color: var(--fill-color);\n",
              "    animation:\n",
              "      spin 1s steps(1) infinite;\n",
              "  }\n",
              "\n",
              "  @keyframes spin {\n",
              "    0% {\n",
              "      border-color: transparent;\n",
              "      border-bottom-color: var(--fill-color);\n",
              "      border-left-color: var(--fill-color);\n",
              "    }\n",
              "    20% {\n",
              "      border-color: transparent;\n",
              "      border-left-color: var(--fill-color);\n",
              "      border-top-color: var(--fill-color);\n",
              "    }\n",
              "    30% {\n",
              "      border-color: transparent;\n",
              "      border-left-color: var(--fill-color);\n",
              "      border-top-color: var(--fill-color);\n",
              "      border-right-color: var(--fill-color);\n",
              "    }\n",
              "    40% {\n",
              "      border-color: transparent;\n",
              "      border-right-color: var(--fill-color);\n",
              "      border-top-color: var(--fill-color);\n",
              "    }\n",
              "    60% {\n",
              "      border-color: transparent;\n",
              "      border-right-color: var(--fill-color);\n",
              "    }\n",
              "    80% {\n",
              "      border-color: transparent;\n",
              "      border-right-color: var(--fill-color);\n",
              "      border-bottom-color: var(--fill-color);\n",
              "    }\n",
              "    90% {\n",
              "      border-color: transparent;\n",
              "      border-bottom-color: var(--fill-color);\n",
              "    }\n",
              "  }\n",
              "</style>\n",
              "\n",
              "  <script>\n",
              "    async function quickchart(key) {\n",
              "      const quickchartButtonEl =\n",
              "        document.querySelector('#' + key + ' button');\n",
              "      quickchartButtonEl.disabled = true;  // To prevent multiple clicks.\n",
              "      quickchartButtonEl.classList.add('colab-df-spinner');\n",
              "      try {\n",
              "        const charts = await google.colab.kernel.invokeFunction(\n",
              "            'suggestCharts', [key], {});\n",
              "      } catch (error) {\n",
              "        console.error('Error during call to suggestCharts:', error);\n",
              "      }\n",
              "      quickchartButtonEl.classList.remove('colab-df-spinner');\n",
              "      quickchartButtonEl.classList.add('colab-df-quickchart-complete');\n",
              "    }\n",
              "    (() => {\n",
              "      let quickchartButtonEl =\n",
              "        document.querySelector('#df-8ab2b9cd-a78e-4639-bcbf-c8989fa749c9 button');\n",
              "      quickchartButtonEl.style.display =\n",
              "        google.colab.kernel.accessAllowed ? 'block' : 'none';\n",
              "    })();\n",
              "  </script>\n",
              "</div>\n",
              "    </div>\n",
              "  </div>\n"
            ]
          },
          "metadata": {},
          "execution_count": 8
        }
      ]
    },
    {
      "cell_type": "code",
      "source": [
        "df.fillna(df.mean(),inplace=True)\n",
        "df.isnull().sum()"
      ],
      "metadata": {
        "colab": {
          "base_uri": "https://localhost:8080/"
        },
        "id": "90TfBZk8ldLT",
        "outputId": "ca62387c-062f-451a-c7a6-371ffe8225a6"
      },
      "execution_count": null,
      "outputs": [
        {
          "output_type": "stream",
          "name": "stderr",
          "text": [
            "<ipython-input-9-922ffc95d673>:1: SettingWithCopyWarning: \n",
            "A value is trying to be set on a copy of a slice from a DataFrame.\n",
            "Try using .loc[row_indexer,col_indexer] = value instead\n",
            "\n",
            "See the caveats in the documentation: https://pandas.pydata.org/pandas-docs/stable/user_guide/indexing.html#returning-a-view-versus-a-copy\n",
            "  df.fillna(df.mean(),inplace=True)\n"
          ]
        },
        {
          "output_type": "execute_result",
          "data": {
            "text/plain": [
              "Turbidity     0\n",
              "ph            0\n",
              "Potability    0\n",
              "dtype: int64"
            ]
          },
          "metadata": {},
          "execution_count": 9
        }
      ]
    },
    {
      "cell_type": "code",
      "source": [
        "df.Potability.value_counts()"
      ],
      "metadata": {
        "colab": {
          "base_uri": "https://localhost:8080/"
        },
        "id": "NAdhfg7bluI1",
        "outputId": "3ae3cbd2-bc0e-45a8-e1e6-2c62674164f1"
      },
      "execution_count": null,
      "outputs": [
        {
          "output_type": "execute_result",
          "data": {
            "text/plain": [
              "0    1998\n",
              "1    1278\n",
              "Name: Potability, dtype: int64"
            ]
          },
          "metadata": {},
          "execution_count": 10
        }
      ]
    },
    {
      "cell_type": "code",
      "source": [
        "sns.countplot(df['Potability'])\n",
        "plt.show()"
      ],
      "metadata": {
        "colab": {
          "base_uri": "https://localhost:8080/",
          "height": 430
        },
        "id": "OJA1GGLEl5Fs",
        "outputId": "571044f8-f375-4e29-e794-c061623e4adb"
      },
      "execution_count": null,
      "outputs": [
        {
          "output_type": "display_data",
          "data": {
            "text/plain": [
              "<Figure size 640x480 with 1 Axes>"
            ],
            "image/png": "[encoded data removed]"
          },
          "metadata": {}
        }
      ]
    },
    {
      "cell_type": "code",
      "source": [
        "sns.distplot(df['ph'])\n",
        "plt.show()"
      ],
      "metadata": {
        "colab": {
          "base_uri": "https://localhost:8080/",
          "height": 640
        },
        "id": "aoW80IVtmUTb",
        "outputId": "65b3832b-4c6b-4b7a-b9f7-cf97311a1db8"
      },
      "execution_count": null,
      "outputs": [
        {
          "output_type": "stream",
          "name": "stderr",
          "text": [
            "<ipython-input-12-48fab1294798>:1: UserWarning: \n",
            "\n",
            "`distplot` is a deprecated function and will be removed in seaborn v0.14.0.\n",
            "\n",
            "Please adapt your code to use either `displot` (a figure-level function with\n",
            "similar flexibility) or `histplot` (an axes-level function for histograms).\n",
            "\n",
            "For a guide to updating your code to use the new functions, please see\n",
            "https://gist.github.com/mwaskom/de44147ed2974457ad6372750bbe5751\n",
            "\n",
            "  sns.distplot(df['ph'])\n"
          ]
        },
        {
          "output_type": "display_data",
          "data": {
            "text/plain": [
              "<Figure size 640x480 with 1 Axes>"
            ],
            "image/png": "[encoded data removed]"
          },
          "metadata": {}
        }
      ]
    },
    {
      "cell_type": "code",
      "source": [
        "df.hist(figsize=(14,14))\n",
        "plt.show()"
      ],
      "metadata": {
        "colab": {
          "base_uri": "https://localhost:8080/",
          "height": 1000
        },
        "id": "l3vjy16gmg9U",
        "outputId": "115af765-b49c-4820-c32c-5a70aca93d6a"
      },
      "execution_count": null,
      "outputs": [
        {
          "output_type": "display_data",
          "data": {
            "text/plain": [
              "<Figure size 1400x1400 with 4 Axes>"
            ],
            "image/png": "[encoded data removed]"
          },
          "metadata": {}
        }
      ]
    },
    {
      "cell_type": "code",
      "source": [
        "plt.figure(figsize=(13,8))\n",
        "sns.heatmap(df.corr(),annot=True,cmap='terrain')\n",
        "plt.show()"
      ],
      "metadata": {
        "colab": {
          "base_uri": "https://localhost:8080/",
          "height": 682
        },
        "id": "p1oyZ812myyF",
        "outputId": "e8dc1968-098f-46bb-ba63-cef6f5623c31"
      },
      "execution_count": null,
      "outputs": [
        {
          "output_type": "display_data",
          "data": {
            "text/plain": [
              "<Figure size 1300x800 with 2 Axes>"
            ],
            "image/png": "[encoded data removed]"
          },
          "metadata": {}
        }
      ]
    },
    {
      "cell_type": "code",
      "source": [
        "df.boxplot(figsize=(14,7))"
      ],
      "metadata": {
        "colab": {
          "base_uri": "https://localhost:8080/",
          "height": 607
        },
        "id": "QZCLMyVWnHL3",
        "outputId": "f36e12c8-597b-4bda-a0e1-aacb15e02674"
      },
      "execution_count": null,
      "outputs": [
        {
          "output_type": "execute_result",
          "data": {
            "text/plain": [
              "<Axes: >"
            ]
          },
          "metadata": {},
          "execution_count": 15
        },
        {
          "output_type": "display_data",
          "data": {
            "text/plain": [
              "<Figure size 1400x700 with 1 Axes>"
            ],
            "image/png": "[encoded data removed]"
          },
          "metadata": {}
        }
      ]
    },
    {
      "cell_type": "code",
      "source": [
        "X = df[['Turbidity', 'ph']]\n",
        "Y = df['Potability']"
      ],
      "metadata": {
        "id": "vtVvh-iFnUFG"
      },
      "execution_count": null,
      "outputs": []
    },
    {
      "cell_type": "code",
      "source": [
        "from sklearn.model_selection import train_test_split\n",
        "X_train, X_test, Y_train, Y_test = train_test_split(X,Y, test_size=0.2, random_state=101, shuffle=True)"
      ],
      "metadata": {
        "id": "DEQj3Q65ngCu"
      },
      "execution_count": null,
      "outputs": []
    },
    {
      "cell_type": "code",
      "source": [
        "from sklearn.tree import DecisionTreeClassifier\n",
        "from sklearn.metrics import accuracy_score, confusion_matrix, classification_report\n",
        "dt = DecisionTreeClassifier(criterion='gini', min_samples_split=10,splitter='best')\n",
        "dt.fit(X_train,Y_train)"
      ],
      "metadata": {
        "colab": {
          "base_uri": "https://localhost:8080/",
          "height": 74
        },
        "id": "3U3mBQhqn_EL",
        "outputId": "caeb12d2-f890-4089-b4bd-40229e4d335a"
      },
      "execution_count": null,
      "outputs": [
        {
          "output_type": "execute_result",
          "data": {
            "text/plain": [
              "DecisionTreeClassifier(min_samples_split=10)"
            ],
            "text/html": [
              "<style>#sk-container-id-1 {color: black;background-color: white;}#sk-container-id-1 pre{padding: 0;}#sk-container-id-1 div.sk-toggleable {background-color: white;}#sk-container-id-1 label.sk-toggleable__label {cursor: pointer;display: block;width: 100%;margin-bottom: 0;padding: 0.3em;box-sizing: border-box;text-align: center;}#sk-container-id-1 label.sk-toggleable__label-arrow:before {content: \"▸\";float: left;margin-right: 0.25em;color: #696969;}#sk-container-id-1 label.sk-toggleable__label-arrow:hover:before {color: black;}#sk-container-id-1 div.sk-estimator:hover label.sk-toggleable__label-arrow:before {color: black;}#sk-container-id-1 div.sk-toggleable__content {max-height: 0;max-width: 0;overflow: hidden;text-align: left;background-color: #f0f8ff;}#sk-container-id-1 div.sk-toggleable__content pre {margin: 0.2em;color: black;border-radius: 0.25em;background-color: #f0f8ff;}#sk-container-id-1 input.sk-toggleable__control:checked~div.sk-toggleable__content {max-height: 200px;max-width: 100%;overflow: auto;}#sk-container-id-1 input.sk-toggleable__control:checked~label.sk-toggleable__label-arrow:before {content: \"▾\";}#sk-container-id-1 div.sk-estimator input.sk-toggleable__control:checked~label.sk-toggleable__label {background-color: #d4ebff;}#sk-container-id-1 div.sk-label input.sk-toggleable__control:checked~label.sk-toggleable__label {background-color: #d4ebff;}#sk-container-id-1 input.sk-hidden--visually {border: 0;clip: rect(1px 1px 1px 1px);clip: rect(1px, 1px, 1px, 1px);height: 1px;margin: -1px;overflow: hidden;padding: 0;position: absolute;width: 1px;}#sk-container-id-1 div.sk-estimator {font-family: monospace;background-color: #f0f8ff;border: 1px dotted black;border-radius: 0.25em;box-sizing: border-box;margin-bottom: 0.5em;}#sk-container-id-1 div.sk-estimator:hover {background-color: #d4ebff;}#sk-container-id-1 div.sk-parallel-item::after {content: \"\";width: 100%;border-bottom: 1px solid gray;flex-grow: 1;}#sk-container-id-1 div.sk-label:hover label.sk-toggleable__label {background-color: #d4ebff;}#sk-container-id-1 div.sk-serial::before {content: \"\";position: absolute;border-left: 1px solid gray;box-sizing: border-box;top: 0;bottom: 0;left: 50%;z-index: 0;}#sk-container-id-1 div.sk-serial {display: flex;flex-direction: column;align-items: center;background-color: white;padding-right: 0.2em;padding-left: 0.2em;position: relative;}#sk-container-id-1 div.sk-item {position: relative;z-index: 1;}#sk-container-id-1 div.sk-parallel {display: flex;align-items: stretch;justify-content: center;background-color: white;position: relative;}#sk-container-id-1 div.sk-item::before, #sk-container-id-1 div.sk-parallel-item::before {content: \"\";position: absolute;border-left: 1px solid gray;box-sizing: border-box;top: 0;bottom: 0;left: 50%;z-index: -1;}#sk-container-id-1 div.sk-parallel-item {display: flex;flex-direction: column;z-index: 1;position: relative;background-color: white;}#sk-container-id-1 div.sk-parallel-item:first-child::after {align-self: flex-end;width: 50%;}#sk-container-id-1 div.sk-parallel-item:last-child::after {align-self: flex-start;width: 50%;}#sk-container-id-1 div.sk-parallel-item:only-child::after {width: 0;}#sk-container-id-1 div.sk-dashed-wrapped {border: 1px dashed gray;margin: 0 0.4em 0.5em 0.4em;box-sizing: border-box;padding-bottom: 0.4em;background-color: white;}#sk-container-id-1 div.sk-label label {font-family: monospace;font-weight: bold;display: inline-block;line-height: 1.2em;}#sk-container-id-1 div.sk-label-container {text-align: center;}#sk-container-id-1 div.sk-container {/* jupyter's `normalize.less` sets `[hidden] { display: none; }` but bootstrap.min.css set `[hidden] { display: none !important; }` so we also need the `!important` here to be able to override the default hidden behavior on the sphinx rendered scikit-learn.org. See: https://github.com/scikit-learn/scikit-learn/issues/21755 */display: inline-block !important;position: relative;}#sk-container-id-1 div.sk-text-repr-fallback {display: none;}</style><div id=\"sk-container-id-1\" class=\"sk-top-container\"><div class=\"sk-text-repr-fallback\"><pre>DecisionTreeClassifier(min_samples_split=10)</pre><b>In a Jupyter environment, please rerun this cell to show the HTML representation or trust the notebook. <br />On GitHub, the HTML representation is unable to render, please try loading this page with nbviewer.org.</b></div><div class=\"sk-container\" hidden><div class=\"sk-item\"><div class=\"sk-estimator sk-toggleable\"><input class=\"sk-toggleable__control sk-hidden--visually\" id=\"sk-estimator-id-1\" type=\"checkbox\" checked><label for=\"sk-estimator-id-1\" class=\"sk-toggleable__label sk-toggleable__label-arrow\">DecisionTreeClassifier</label><div class=\"sk-toggleable__content\"><pre>DecisionTreeClassifier(min_samples_split=10)</pre></div></div></div></div></div>"
            ]
          },
          "metadata": {},
          "execution_count": 18
        }
      ]
    },
    {
      "cell_type": "code",
      "source": [
        "prediction=dt.predict(X_test)\n",
        "print(f\"Accuracy Score = {accuracy_score(Y_test,prediction)*100}\")\n",
        "print(f\"Confusion Matrix =\\n {confusion_matrix(Y_test,prediction)}\")\n",
        "print(f\"Classification Report =\\n {classification_report(Y_test,prediction)}\")"
      ],
      "metadata": {
        "colab": {
          "base_uri": "https://localhost:8080/"
        },
        "id": "C6j-ttKXo1g2",
        "outputId": "4c65f1f8-b359-42b1-fa43-182c01fca707"
      },
      "execution_count": null,
      "outputs": [
        {
          "output_type": "stream",
          "name": "stdout",
          "text": [
            "Accuracy Score = 54.57317073170732\n",
            "Confusion Matrix =\n",
            " [[258 144]\n",
            " [154 100]]\n",
            "Classification Report =\n",
            "               precision    recall  f1-score   support\n",
            "\n",
            "           0       0.63      0.64      0.63       402\n",
            "           1       0.41      0.39      0.40       254\n",
            "\n",
            "    accuracy                           0.55       656\n",
            "   macro avg       0.52      0.52      0.52       656\n",
            "weighted avg       0.54      0.55      0.54       656\n",
            "\n"
          ]
        }
      ]
    },
    {
      "cell_type": "code",
      "source": [
        "ans = dt.predict([[5.735724,4.732954]])[0]\n",
        "ans"
      ],
      "metadata": {
        "colab": {
          "base_uri": "https://localhost:8080/"
        },
        "id": "GgEd8ASoq0ks",
        "outputId": "405771e5-fbb4-427d-c011-b598ed838b29"
      },
      "execution_count": null,
      "outputs": [
        {
          "output_type": "stream",
          "name": "stderr",
          "text": [
            "/usr/local/lib/python3.10/dist-packages/sklearn/base.py:439: UserWarning: X does not have valid feature names, but DecisionTreeClassifier was fitted with feature names\n",
            "  warnings.warn(\n"
          ]
        },
        {
          "output_type": "execute_result",
          "data": {
            "text/plain": [
              "1"
            ]
          },
          "metadata": {},
          "execution_count": 20
        }
      ]
    },
    {
      "cell_type": "code",
      "source": [
        "from sklearn.tree import export_text\n",
        "\n",
        "tree_rules = export_text(dt, feature_names=list(X.columns))\n",
        "print(tree_rules)\n"
      ],
      "metadata": {
        "colab": {
          "base_uri": "https://localhost:8080/"
        },
        "id": "tC-SUiATr4sb",
        "outputId": "51938cfb-bbcb-4408-c3bd-0a27bf02efed"
      },
      "execution_count": null,
      "outputs": [
        {
          "output_type": "stream",
          "name": "stdout",
          "text": [
            "|--- ph <= 4.65\n",
            "|   |--- Turbidity <= 5.13\n",
            "|   |   |--- Turbidity <= 2.11\n",
            "|   |   |   |--- class: 1\n",
            "|   |   |--- Turbidity >  2.11\n",
            "|   |   |   |--- Turbidity <= 3.99\n",
            "|   |   |   |   |--- Turbidity <= 2.80\n",
            "|   |   |   |   |   |--- class: 0\n",
            "|   |   |   |   |--- Turbidity >  2.80\n",
            "|   |   |   |   |   |--- Turbidity <= 3.11\n",
            "|   |   |   |   |   |   |--- class: 1\n",
            "|   |   |   |   |   |--- Turbidity >  3.11\n",
            "|   |   |   |   |   |   |--- Turbidity <= 3.95\n",
            "|   |   |   |   |   |   |   |--- ph <= 3.65\n",
            "|   |   |   |   |   |   |   |   |--- ph <= 2.80\n",
            "|   |   |   |   |   |   |   |   |   |--- class: 0\n",
            "|   |   |   |   |   |   |   |   |--- ph >  2.80\n",
            "|   |   |   |   |   |   |   |   |   |--- class: 0\n",
            "|   |   |   |   |   |   |   |--- ph >  3.65\n",
            "|   |   |   |   |   |   |   |   |--- ph <= 3.69\n",
            "|   |   |   |   |   |   |   |   |   |--- class: 1\n",
            "|   |   |   |   |   |   |   |   |--- ph >  3.69\n",
            "|   |   |   |   |   |   |   |   |   |--- ph <= 3.86\n",
            "|   |   |   |   |   |   |   |   |   |   |--- class: 0\n",
            "|   |   |   |   |   |   |   |   |   |--- ph >  3.86\n",
            "|   |   |   |   |   |   |   |   |   |   |--- ph <= 4.05\n",
            "|   |   |   |   |   |   |   |   |   |   |   |--- class: 1\n",
            "|   |   |   |   |   |   |   |   |   |   |--- ph >  4.05\n",
            "|   |   |   |   |   |   |   |   |   |   |   |--- truncated branch of depth 3\n",
            "|   |   |   |   |   |   |--- Turbidity >  3.95\n",
            "|   |   |   |   |   |   |   |--- class: 1\n",
            "|   |   |   |--- Turbidity >  3.99\n",
            "|   |   |   |   |--- Turbidity <= 4.59\n",
            "|   |   |   |   |   |--- ph <= 4.33\n",
            "|   |   |   |   |   |   |--- Turbidity <= 4.47\n",
            "|   |   |   |   |   |   |   |--- class: 0\n",
            "|   |   |   |   |   |   |--- Turbidity >  4.47\n",
            "|   |   |   |   |   |   |   |--- class: 0\n",
            "|   |   |   |   |   |--- ph >  4.33\n",
            "|   |   |   |   |   |   |--- ph <= 4.34\n",
            "|   |   |   |   |   |   |   |--- class: 1\n",
            "|   |   |   |   |   |   |--- ph >  4.34\n",
            "|   |   |   |   |   |   |   |--- Turbidity <= 4.30\n",
            "|   |   |   |   |   |   |   |   |--- class: 0\n",
            "|   |   |   |   |   |   |   |--- Turbidity >  4.30\n",
            "|   |   |   |   |   |   |   |   |--- class: 0\n",
            "|   |   |   |   |--- Turbidity >  4.59\n",
            "|   |   |   |   |   |--- Turbidity <= 4.64\n",
            "|   |   |   |   |   |   |--- class: 1\n",
            "|   |   |   |   |   |--- Turbidity >  4.64\n",
            "|   |   |   |   |   |   |--- ph <= 4.17\n",
            "|   |   |   |   |   |   |   |--- ph <= 3.98\n",
            "|   |   |   |   |   |   |   |   |--- class: 0\n",
            "|   |   |   |   |   |   |   |--- ph >  3.98\n",
            "|   |   |   |   |   |   |   |   |--- class: 1\n",
            "|   |   |   |   |   |   |--- ph >  4.17\n",
            "|   |   |   |   |   |   |   |--- class: 0\n",
            "|   |--- Turbidity >  5.13\n",
            "|   |   |--- class: 0\n",
            "|--- ph >  4.65\n",
            "|   |--- ph <= 8.27\n",
            "|   |   |--- ph <= 8.25\n",
            "|   |   |   |--- ph <= 4.96\n",
            "|   |   |   |   |--- Turbidity <= 3.47\n",
            "|   |   |   |   |   |--- Turbidity <= 3.15\n",
            "|   |   |   |   |   |   |--- class: 1\n",
            "|   |   |   |   |   |--- Turbidity >  3.15\n",
            "|   |   |   |   |   |   |--- class: 1\n",
            "|   |   |   |   |--- Turbidity >  3.47\n",
            "|   |   |   |   |   |--- Turbidity <= 4.43\n",
            "|   |   |   |   |   |   |--- ph <= 4.93\n",
            "|   |   |   |   |   |   |   |--- Turbidity <= 3.88\n",
            "|   |   |   |   |   |   |   |   |--- ph <= 4.73\n",
            "|   |   |   |   |   |   |   |   |   |--- class: 0\n",
            "|   |   |   |   |   |   |   |   |--- ph >  4.73\n",
            "|   |   |   |   |   |   |   |   |   |--- class: 0\n",
            "|   |   |   |   |   |   |   |--- Turbidity >  3.88\n",
            "|   |   |   |   |   |   |   |   |--- Turbidity <= 3.90\n",
            "|   |   |   |   |   |   |   |   |   |--- class: 1\n",
            "|   |   |   |   |   |   |   |   |--- Turbidity >  3.90\n",
            "|   |   |   |   |   |   |   |   |   |--- ph <= 4.81\n",
            "|   |   |   |   |   |   |   |   |   |   |--- class: 0\n",
            "|   |   |   |   |   |   |   |   |   |--- ph >  4.81\n",
            "|   |   |   |   |   |   |   |   |   |   |--- class: 0\n",
            "|   |   |   |   |   |   |--- ph >  4.93\n",
            "|   |   |   |   |   |   |   |--- class: 1\n",
            "|   |   |   |   |   |--- Turbidity >  4.43\n",
            "|   |   |   |   |   |   |--- ph <= 4.94\n",
            "|   |   |   |   |   |   |   |--- ph <= 4.80\n",
            "|   |   |   |   |   |   |   |   |--- class: 1\n",
            "|   |   |   |   |   |   |   |--- ph >  4.80\n",
            "|   |   |   |   |   |   |   |   |--- class: 1\n",
            "|   |   |   |   |   |   |--- ph >  4.94\n",
            "|   |   |   |   |   |   |   |--- class: 0\n",
            "|   |   |   |--- ph >  4.96\n",
            "|   |   |   |   |--- ph <= 5.61\n",
            "|   |   |   |   |   |--- ph <= 5.57\n",
            "|   |   |   |   |   |   |--- ph <= 5.56\n",
            "|   |   |   |   |   |   |   |--- ph <= 4.97\n",
            "|   |   |   |   |   |   |   |   |--- class: 0\n",
            "|   |   |   |   |   |   |   |--- ph >  4.97\n",
            "|   |   |   |   |   |   |   |   |--- ph <= 5.55\n",
            "|   |   |   |   |   |   |   |   |   |--- ph <= 5.53\n",
            "|   |   |   |   |   |   |   |   |   |   |--- ph <= 5.49\n",
            "|   |   |   |   |   |   |   |   |   |   |   |--- truncated branch of depth 12\n",
            "|   |   |   |   |   |   |   |   |   |   |--- ph >  5.49\n",
            "|   |   |   |   |   |   |   |   |   |   |   |--- truncated branch of depth 3\n",
            "|   |   |   |   |   |   |   |   |   |--- ph >  5.53\n",
            "|   |   |   |   |   |   |   |   |   |   |--- class: 1\n",
            "|   |   |   |   |   |   |   |   |--- ph >  5.55\n",
            "|   |   |   |   |   |   |   |   |   |--- class: 0\n",
            "|   |   |   |   |   |   |--- ph >  5.56\n",
            "|   |   |   |   |   |   |   |--- class: 1\n",
            "|   |   |   |   |   |--- ph >  5.57\n",
            "|   |   |   |   |   |   |--- Turbidity <= 3.90\n",
            "|   |   |   |   |   |   |   |--- class: 0\n",
            "|   |   |   |   |   |   |--- Turbidity >  3.90\n",
            "|   |   |   |   |   |   |   |--- class: 0\n",
            "|   |   |   |   |--- ph >  5.61\n",
            "|   |   |   |   |   |--- ph <= 7.08\n",
            "|   |   |   |   |   |   |--- ph <= 7.06\n",
            "|   |   |   |   |   |   |   |--- Turbidity <= 4.03\n",
            "|   |   |   |   |   |   |   |   |--- Turbidity <= 4.00\n",
            "|   |   |   |   |   |   |   |   |   |--- ph <= 5.61\n",
            "|   |   |   |   |   |   |   |   |   |   |--- class: 1\n",
            "|   |   |   |   |   |   |   |   |   |--- ph >  5.61\n",
            "|   |   |   |   |   |   |   |   |   |   |--- ph <= 5.62\n",
            "|   |   |   |   |   |   |   |   |   |   |   |--- class: 0\n",
            "|   |   |   |   |   |   |   |   |   |   |--- ph >  5.62\n",
            "|   |   |   |   |   |   |   |   |   |   |   |--- truncated branch of depth 22\n",
            "|   |   |   |   |   |   |   |   |--- Turbidity >  4.00\n",
            "|   |   |   |   |   |   |   |   |   |--- class: 1\n",
            "|   |   |   |   |   |   |   |--- Turbidity >  4.03\n",
            "|   |   |   |   |   |   |   |   |--- ph <= 6.50\n",
            "|   |   |   |   |   |   |   |   |   |--- ph <= 6.47\n",
            "|   |   |   |   |   |   |   |   |   |   |--- ph <= 6.42\n",
            "|   |   |   |   |   |   |   |   |   |   |   |--- truncated branch of depth 13\n",
            "|   |   |   |   |   |   |   |   |   |   |--- ph >  6.42\n",
            "|   |   |   |   |   |   |   |   |   |   |   |--- truncated branch of depth 2\n",
            "|   |   |   |   |   |   |   |   |   |--- ph >  6.47\n",
            "|   |   |   |   |   |   |   |   |   |   |--- class: 0\n",
            "|   |   |   |   |   |   |   |   |--- ph >  6.50\n",
            "|   |   |   |   |   |   |   |   |   |--- Turbidity <= 4.20\n",
            "|   |   |   |   |   |   |   |   |   |   |--- ph <= 6.91\n",
            "|   |   |   |   |   |   |   |   |   |   |   |--- truncated branch of depth 3\n",
            "|   |   |   |   |   |   |   |   |   |   |--- ph >  6.91\n",
            "|   |   |   |   |   |   |   |   |   |   |   |--- class: 1\n",
            "|   |   |   |   |   |   |   |   |   |--- Turbidity >  4.20\n",
            "|   |   |   |   |   |   |   |   |   |   |--- ph <= 7.05\n",
            "|   |   |   |   |   |   |   |   |   |   |   |--- truncated branch of depth 13\n",
            "|   |   |   |   |   |   |   |   |   |   |--- ph >  7.05\n",
            "|   |   |   |   |   |   |   |   |   |   |   |--- class: 0\n",
            "|   |   |   |   |   |   |--- ph >  7.06\n",
            "|   |   |   |   |   |   |   |--- class: 1\n",
            "|   |   |   |   |   |--- ph >  7.08\n",
            "|   |   |   |   |   |   |--- ph <= 7.15\n",
            "|   |   |   |   |   |   |   |--- ph <= 7.14\n",
            "|   |   |   |   |   |   |   |   |--- Turbidity <= 3.31\n",
            "|   |   |   |   |   |   |   |   |   |--- Turbidity <= 2.79\n",
            "|   |   |   |   |   |   |   |   |   |   |--- Turbidity <= 2.45\n",
            "|   |   |   |   |   |   |   |   |   |   |   |--- class: 0\n",
            "|   |   |   |   |   |   |   |   |   |   |--- Turbidity >  2.45\n",
            "|   |   |   |   |   |   |   |   |   |   |   |--- truncated branch of depth 4\n",
            "|   |   |   |   |   |   |   |   |   |--- Turbidity >  2.79\n",
            "|   |   |   |   |   |   |   |   |   |   |--- Turbidity <= 2.84\n",
            "|   |   |   |   |   |   |   |   |   |   |   |--- class: 0\n",
            "|   |   |   |   |   |   |   |   |   |   |--- Turbidity >  2.84\n",
            "|   |   |   |   |   |   |   |   |   |   |   |--- truncated branch of depth 12\n",
            "|   |   |   |   |   |   |   |   |--- Turbidity >  3.31\n",
            "|   |   |   |   |   |   |   |   |   |--- Turbidity <= 4.14\n",
            "|   |   |   |   |   |   |   |   |   |   |--- Turbidity <= 4.13\n",
            "|   |   |   |   |   |   |   |   |   |   |   |--- truncated branch of depth 27\n",
            "|   |   |   |   |   |   |   |   |   |   |--- Turbidity >  4.13\n",
            "|   |   |   |   |   |   |   |   |   |   |   |--- class: 1\n",
            "|   |   |   |   |   |   |   |   |   |--- Turbidity >  4.14\n",
            "|   |   |   |   |   |   |   |   |   |   |--- Turbidity <= 4.22\n",
            "|   |   |   |   |   |   |   |   |   |   |   |--- truncated branch of depth 4\n",
            "|   |   |   |   |   |   |   |   |   |   |--- Turbidity >  4.22\n",
            "|   |   |   |   |   |   |   |   |   |   |   |--- truncated branch of depth 24\n",
            "|   |   |   |   |   |   |   |--- ph >  7.14\n",
            "|   |   |   |   |   |   |   |   |--- class: 0\n",
            "|   |   |   |   |   |   |--- ph >  7.15\n",
            "|   |   |   |   |   |   |   |--- Turbidity <= 4.46\n",
            "|   |   |   |   |   |   |   |   |--- Turbidity <= 4.40\n",
            "|   |   |   |   |   |   |   |   |   |--- Turbidity <= 2.35\n",
            "|   |   |   |   |   |   |   |   |   |   |--- Turbidity <= 2.21\n",
            "|   |   |   |   |   |   |   |   |   |   |   |--- class: 0\n",
            "|   |   |   |   |   |   |   |   |   |   |--- Turbidity >  2.21\n",
            "|   |   |   |   |   |   |   |   |   |   |   |--- class: 1\n",
            "|   |   |   |   |   |   |   |   |   |--- Turbidity >  2.35\n",
            "|   |   |   |   |   |   |   |   |   |   |--- ph <= 7.16\n",
            "|   |   |   |   |   |   |   |   |   |   |   |--- class: 1\n",
            "|   |   |   |   |   |   |   |   |   |   |--- ph >  7.16\n",
            "|   |   |   |   |   |   |   |   |   |   |   |--- truncated branch of depth 22\n",
            "|   |   |   |   |   |   |   |   |--- Turbidity >  4.40\n",
            "|   |   |   |   |   |   |   |   |   |--- Turbidity <= 4.43\n",
            "|   |   |   |   |   |   |   |   |   |   |--- class: 0\n",
            "|   |   |   |   |   |   |   |   |   |--- Turbidity >  4.43\n",
            "|   |   |   |   |   |   |   |   |   |   |--- class: 0\n",
            "|   |   |   |   |   |   |   |--- Turbidity >  4.46\n",
            "|   |   |   |   |   |   |   |   |--- ph <= 7.18\n",
            "|   |   |   |   |   |   |   |   |   |--- class: 1\n",
            "|   |   |   |   |   |   |   |   |--- ph >  7.18\n",
            "|   |   |   |   |   |   |   |   |   |--- Turbidity <= 4.52\n",
            "|   |   |   |   |   |   |   |   |   |   |--- Turbidity <= 4.50\n",
            "|   |   |   |   |   |   |   |   |   |   |   |--- class: 1\n",
            "|   |   |   |   |   |   |   |   |   |   |--- Turbidity >  4.50\n",
            "|   |   |   |   |   |   |   |   |   |   |   |--- class: 1\n",
            "|   |   |   |   |   |   |   |   |   |--- Turbidity >  4.52\n",
            "|   |   |   |   |   |   |   |   |   |   |--- Turbidity <= 4.94\n",
            "|   |   |   |   |   |   |   |   |   |   |   |--- truncated branch of depth 9\n",
            "|   |   |   |   |   |   |   |   |   |   |--- Turbidity >  4.94\n",
            "|   |   |   |   |   |   |   |   |   |   |   |--- truncated branch of depth 8\n",
            "|   |   |--- ph >  8.25\n",
            "|   |   |   |--- class: 1\n",
            "|   |--- ph >  8.27\n",
            "|   |   |--- Turbidity <= 3.20\n",
            "|   |   |   |--- Turbidity <= 3.04\n",
            "|   |   |   |   |--- ph <= 9.15\n",
            "|   |   |   |   |   |--- Turbidity <= 2.35\n",
            "|   |   |   |   |   |   |--- class: 1\n",
            "|   |   |   |   |   |--- Turbidity >  2.35\n",
            "|   |   |   |   |   |   |--- Turbidity <= 2.88\n",
            "|   |   |   |   |   |   |   |--- ph <= 8.32\n",
            "|   |   |   |   |   |   |   |   |--- class: 0\n",
            "|   |   |   |   |   |   |   |--- ph >  8.32\n",
            "|   |   |   |   |   |   |   |   |--- class: 0\n",
            "|   |   |   |   |   |   |--- Turbidity >  2.88\n",
            "|   |   |   |   |   |   |   |--- Turbidity <= 2.89\n",
            "|   |   |   |   |   |   |   |   |--- class: 1\n",
            "|   |   |   |   |   |   |   |--- Turbidity >  2.89\n",
            "|   |   |   |   |   |   |   |   |--- Turbidity <= 3.03\n",
            "|   |   |   |   |   |   |   |   |   |--- Turbidity <= 2.96\n",
            "|   |   |   |   |   |   |   |   |   |   |--- class: 0\n",
            "|   |   |   |   |   |   |   |   |   |--- Turbidity >  2.96\n",
            "|   |   |   |   |   |   |   |   |   |   |--- class: 0\n",
            "|   |   |   |   |   |   |   |   |--- Turbidity >  3.03\n",
            "|   |   |   |   |   |   |   |   |   |--- class: 1\n",
            "|   |   |   |   |--- ph >  9.15\n",
            "|   |   |   |   |   |--- Turbidity <= 2.66\n",
            "|   |   |   |   |   |   |--- class: 1\n",
            "|   |   |   |   |   |--- Turbidity >  2.66\n",
            "|   |   |   |   |   |   |--- Turbidity <= 2.87\n",
            "|   |   |   |   |   |   |   |--- class: 0\n",
            "|   |   |   |   |   |   |--- Turbidity >  2.87\n",
            "|   |   |   |   |   |   |   |--- Turbidity <= 2.96\n",
            "|   |   |   |   |   |   |   |   |--- class: 1\n",
            "|   |   |   |   |   |   |   |--- Turbidity >  2.96\n",
            "|   |   |   |   |   |   |   |   |--- class: 0\n",
            "|   |   |   |--- Turbidity >  3.04\n",
            "|   |   |   |   |--- Turbidity <= 3.14\n",
            "|   |   |   |   |   |--- class: 0\n",
            "|   |   |   |   |--- Turbidity >  3.14\n",
            "|   |   |   |   |   |--- class: 0\n",
            "|   |   |--- Turbidity >  3.20\n",
            "|   |   |   |--- Turbidity <= 3.28\n",
            "|   |   |   |   |--- class: 1\n",
            "|   |   |   |--- Turbidity >  3.28\n",
            "|   |   |   |   |--- Turbidity <= 5.78\n",
            "|   |   |   |   |   |--- Turbidity <= 4.75\n",
            "|   |   |   |   |   |   |--- Turbidity <= 4.73\n",
            "|   |   |   |   |   |   |   |--- Turbidity <= 3.49\n",
            "|   |   |   |   |   |   |   |   |--- Turbidity <= 3.48\n",
            "|   |   |   |   |   |   |   |   |   |--- ph <= 10.04\n",
            "|   |   |   |   |   |   |   |   |   |   |--- ph <= 9.16\n",
            "|   |   |   |   |   |   |   |   |   |   |   |--- truncated branch of depth 5\n",
            "|   |   |   |   |   |   |   |   |   |   |--- ph >  9.16\n",
            "|   |   |   |   |   |   |   |   |   |   |   |--- truncated branch of depth 2\n",
            "|   |   |   |   |   |   |   |   |   |--- ph >  10.04\n",
            "|   |   |   |   |   |   |   |   |   |   |--- class: 0\n",
            "|   |   |   |   |   |   |   |   |--- Turbidity >  3.48\n",
            "|   |   |   |   |   |   |   |   |   |--- class: 1\n",
            "|   |   |   |   |   |   |   |--- Turbidity >  3.49\n",
            "|   |   |   |   |   |   |   |   |--- Turbidity <= 3.70\n",
            "|   |   |   |   |   |   |   |   |   |--- ph <= 9.30\n",
            "|   |   |   |   |   |   |   |   |   |   |--- ph <= 9.05\n",
            "|   |   |   |   |   |   |   |   |   |   |   |--- truncated branch of depth 6\n",
            "|   |   |   |   |   |   |   |   |   |   |--- ph >  9.05\n",
            "|   |   |   |   |   |   |   |   |   |   |   |--- class: 1\n",
            "|   |   |   |   |   |   |   |   |   |--- ph >  9.30\n",
            "|   |   |   |   |   |   |   |   |   |   |--- class: 0\n",
            "|   |   |   |   |   |   |   |   |--- Turbidity >  3.70\n",
            "|   |   |   |   |   |   |   |   |   |--- Turbidity <= 3.76\n",
            "|   |   |   |   |   |   |   |   |   |   |--- ph <= 10.09\n",
            "|   |   |   |   |   |   |   |   |   |   |   |--- truncated branch of depth 2\n",
            "|   |   |   |   |   |   |   |   |   |   |--- ph >  10.09\n",
            "|   |   |   |   |   |   |   |   |   |   |   |--- class: 0\n",
            "|   |   |   |   |   |   |   |   |   |--- Turbidity >  3.76\n",
            "|   |   |   |   |   |   |   |   |   |   |--- Turbidity <= 3.77\n",
            "|   |   |   |   |   |   |   |   |   |   |   |--- class: 0\n",
            "|   |   |   |   |   |   |   |   |   |   |--- Turbidity >  3.77\n",
            "|   |   |   |   |   |   |   |   |   |   |   |--- truncated branch of depth 33\n",
            "|   |   |   |   |   |   |--- Turbidity >  4.73\n",
            "|   |   |   |   |   |   |   |--- class: 1\n",
            "|   |   |   |   |   |--- Turbidity >  4.75\n",
            "|   |   |   |   |   |   |--- ph <= 8.51\n",
            "|   |   |   |   |   |   |   |--- ph <= 8.36\n",
            "|   |   |   |   |   |   |   |   |--- class: 0\n",
            "|   |   |   |   |   |   |   |--- ph >  8.36\n",
            "|   |   |   |   |   |   |   |   |--- class: 1\n",
            "|   |   |   |   |   |   |--- ph >  8.51\n",
            "|   |   |   |   |   |   |   |--- Turbidity <= 5.47\n",
            "|   |   |   |   |   |   |   |   |--- Turbidity <= 5.33\n",
            "|   |   |   |   |   |   |   |   |   |--- ph <= 10.31\n",
            "|   |   |   |   |   |   |   |   |   |   |--- ph <= 10.25\n",
            "|   |   |   |   |   |   |   |   |   |   |   |--- truncated branch of depth 5\n",
            "|   |   |   |   |   |   |   |   |   |   |--- ph >  10.25\n",
            "|   |   |   |   |   |   |   |   |   |   |   |--- class: 1\n",
            "|   |   |   |   |   |   |   |   |   |--- ph >  10.31\n",
            "|   |   |   |   |   |   |   |   |   |   |--- class: 0\n",
            "|   |   |   |   |   |   |   |   |--- Turbidity >  5.33\n",
            "|   |   |   |   |   |   |   |   |   |--- class: 1\n",
            "|   |   |   |   |   |   |   |--- Turbidity >  5.47\n",
            "|   |   |   |   |   |   |   |   |--- class: 0\n",
            "|   |   |   |   |--- Turbidity >  5.78\n",
            "|   |   |   |   |   |--- class: 1\n",
            "\n"
          ]
        }
      ]
    }
  ]
}